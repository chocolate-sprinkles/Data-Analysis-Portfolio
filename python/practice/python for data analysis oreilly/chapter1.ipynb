{
 "cells": [
  {
   "attachments": {},
   "cell_type": "markdown",
   "metadata": {},
   "source": [
    "# Chapter 1\n",
    "## What is This Book About?\n",
    "- Structured data:\n",
    "  - multidimensional arrays (matrices)\n",
    "  - tabular or spreadsheet-like data (ex. data stored in tables or CSVs)\n",
    "  - multiple tables of data interrelated by key columns\n",
    "  - evenly or unevenly spaced time series\n",
    "\n",
    "## Essential Python Libraries\n",
    "### Numpy\n",
    "- foundational package for scientific computing in Python. It provides\n",
    "  - fast and efficient multidimensional array object ndarray\n",
    "  - functions for performing element-wise computations with arrays or mathematical operations between arrays\n",
    "  - tools for reading and writing array-based data sets to disk\n",
    "  - linear algebra operations, Fourier transformation, and random number generation\n",
    "  - tools for integrating and connecting C, C++, and Fortran code to Python\n",
    "- primary purposes is as the primary container for data to be passed between algorithms\n",
    "- NumPy arrays are a much more efficient way of storing data than other built-in Python data structures\n",
    "\n",
    "### Pandas\n",
    "- provides rich data structures and functions designed to make working with structured data fast, easy, and expressive\n",
    "- primary object in pandas that will be used in this book is the DataFrame, a two-dimensional tabular, column oriented data structure with both row and column labels\n",
    "\n",
    "### Matplotlib\n",
    "- produces plots and other 2D visualizations\n",
    "\n",
    "### SciPy\n",
    "- a collection of packages addressing a number of different standard problem domains in scientific computing\n",
    "- some examples include\n",
    "  - scipy.integrate: numerical integration routines and differential equation solvers\n",
    "  - scipy.linalg: linear algebra routines and matrix decompositions extending beyond those probided in numpy.linalg\n",
    "  - scipy.optimize: function optimizers (minimizers) and root finding algorithms\n",
    "\n",
    "## Data for Examples\n",
    "- can be found https://github.com/wesm/pydata-book"
   ]
  }
 ],
 "metadata": {
  "language_info": {
   "name": "python"
  },
  "orig_nbformat": 4
 },
 "nbformat": 4,
 "nbformat_minor": 2
}
